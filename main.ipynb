{
 "cells": [
  {
   "cell_type": "code",
   "execution_count": 1,
   "outputs": [],
   "source": [
    "import numpy as np\n",
    "import sys\n",
    "from sklearn.metrics import confusion_matrix, classification_report\n",
    "from pointcloud import PointCloud\n",
    "import pandas as pd\n",
    "import matplotlib.pyplot as plt\n",
    "\n",
    "from train import split_data, train_svm_linear, train_svm_rbf, train_svm_poly"
   ],
   "metadata": {
    "collapsed": false
   }
  },
  {
   "cell_type": "code",
   "execution_count": null,
   "metadata": {
    "collapsed": true,
    "pycharm": {
     "is_executing": true
    }
   },
   "outputs": [
    {
     "name": "stdout",
     "output_type": "stream",
     "text": [
      "Processing building\n",
      "Processing 0\n",
      "Processing 1\n",
      "Processing 2\n",
      "Processing 3\n",
      "Processing 4\n",
      "Processing 5\n",
      "Processing 6\n",
      "Processing 7\n",
      "Processing 8\n",
      "Processing 9\n",
      "Processing 10\n",
      "Processing 11\n",
      "Processing 12\n",
      "Processing 13\n",
      "Processing 14\n",
      "Processing 15\n",
      "Processing 16\n",
      "Processing 17\n",
      "Processing 18\n",
      "Processing 19\n",
      "Processing 20\n",
      "Processing 21\n",
      "Processing 22\n",
      "Processing 23\n",
      "Processing 24\n",
      "Processing 25\n",
      "Processing 26\n",
      "Processing 27\n",
      "Processing 28\n",
      "Processing 29\n",
      "Processing 30\n"
     ]
    }
   ],
   "source": [
    "labels = [\"building\", \"car\", \"fence\", \"pole\", \"tree\"]\n",
    "labels_dataset = []\n",
    "features_dataset = []\n",
    "for hundred in range(5):\n",
    "    class_name = labels[hundred]\n",
    "    print(f\"Processing {class_name}\")\n",
    "    for i in range(100): #todo 100\n",
    "        print(f\"Processing {i}\")\n",
    "        point_cloud = PointCloud.from_file(f\"data/pointclouds/{hundred}{i:02d}.xyz\")\n",
    "        features = point_cloud.compute_feature_matrix()\n",
    "        labels_dataset.append(class_name)\n",
    "        features_dataset.append(features)\n",
    "\n",
    "train_features, test_features, train_labels, test_labels = split_data(features_dataset, labels_dataset)"
   ]
  },
  {
   "cell_type": "code",
   "execution_count": 6,
   "outputs": [],
   "source": [
    "svm_linear = train_svm_linear(train_features, train_labels)\n",
    "svm_poly = train_svm_poly(train_features, train_labels)\n",
    "svm_rbf = train_svm_rbf(train_features, train_labels)"
   ],
   "metadata": {
    "collapsed": false
   }
  },
  {
   "cell_type": "code",
   "execution_count": 7,
   "outputs": [
    {
     "name": "stdout",
     "output_type": "stream",
     "text": [
      "Linear Kernel:\n",
      "[[4 0 1 0 0]\n",
      " [0 5 0 0 0]\n",
      " [2 0 1 0 0]\n",
      " [0 0 0 4 0]\n",
      " [1 0 0 1 1]]\n",
      "              precision    recall  f1-score   support\n",
      "\n",
      "    building       0.57      0.80      0.67         5\n",
      "         car       1.00      1.00      1.00         5\n",
      "       fence       0.50      0.33      0.40         3\n",
      "        pole       0.80      1.00      0.89         4\n",
      "        tree       1.00      0.33      0.50         3\n",
      "\n",
      "    accuracy                           0.75        20\n",
      "   macro avg       0.77      0.69      0.69        20\n",
      "weighted avg       0.78      0.75      0.73        20\n",
      "\n",
      "Polynomial Kernel:\n",
      "[[2 0 3 0 0]\n",
      " [0 0 5 0 0]\n",
      " [0 0 3 0 0]\n",
      " [0 0 4 0 0]\n",
      " [0 0 3 0 0]]\n",
      "              precision    recall  f1-score   support\n",
      "\n",
      "    building       1.00      0.40      0.57         5\n",
      "         car       0.00      0.00      0.00         5\n",
      "       fence       0.17      1.00      0.29         3\n",
      "        pole       0.00      0.00      0.00         4\n",
      "        tree       0.00      0.00      0.00         3\n",
      "\n",
      "    accuracy                           0.25        20\n",
      "   macro avg       0.23      0.28      0.17        20\n",
      "weighted avg       0.28      0.25      0.19        20\n",
      "\n",
      "RBF Kernel:\n",
      "[[2 0 1 0 2]\n",
      " [0 0 5 0 0]\n",
      " [0 0 1 0 2]\n",
      " [0 0 4 0 0]\n",
      " [0 0 2 0 1]]\n",
      "              precision    recall  f1-score   support\n",
      "\n",
      "    building       1.00      0.40      0.57         5\n",
      "         car       0.00      0.00      0.00         5\n",
      "       fence       0.08      0.33      0.12         3\n",
      "        pole       0.00      0.00      0.00         4\n",
      "        tree       0.20      0.33      0.25         3\n",
      "\n",
      "    accuracy                           0.20        20\n",
      "   macro avg       0.26      0.21      0.19        20\n",
      "weighted avg       0.29      0.20      0.20        20\n",
      "\n"
     ]
    },
    {
     "name": "stderr",
     "output_type": "stream",
     "text": [
      "/opt/homebrew/Caskroom/miniforge/base/envs/machine_learning/lib/python3.11/site-packages/sklearn/metrics/_classification.py:1344: UndefinedMetricWarning: Precision and F-score are ill-defined and being set to 0.0 in labels with no predicted samples. Use `zero_division` parameter to control this behavior.\n",
      "  _warn_prf(average, modifier, msg_start, len(result))\n",
      "/opt/homebrew/Caskroom/miniforge/base/envs/machine_learning/lib/python3.11/site-packages/sklearn/metrics/_classification.py:1344: UndefinedMetricWarning: Precision and F-score are ill-defined and being set to 0.0 in labels with no predicted samples. Use `zero_division` parameter to control this behavior.\n",
      "  _warn_prf(average, modifier, msg_start, len(result))\n",
      "/opt/homebrew/Caskroom/miniforge/base/envs/machine_learning/lib/python3.11/site-packages/sklearn/metrics/_classification.py:1344: UndefinedMetricWarning: Precision and F-score are ill-defined and being set to 0.0 in labels with no predicted samples. Use `zero_division` parameter to control this behavior.\n",
      "  _warn_prf(average, modifier, msg_start, len(result))\n",
      "/opt/homebrew/Caskroom/miniforge/base/envs/machine_learning/lib/python3.11/site-packages/sklearn/metrics/_classification.py:1344: UndefinedMetricWarning: Precision and F-score are ill-defined and being set to 0.0 in labels with no predicted samples. Use `zero_division` parameter to control this behavior.\n",
      "  _warn_prf(average, modifier, msg_start, len(result))\n",
      "/opt/homebrew/Caskroom/miniforge/base/envs/machine_learning/lib/python3.11/site-packages/sklearn/metrics/_classification.py:1344: UndefinedMetricWarning: Precision and F-score are ill-defined and being set to 0.0 in labels with no predicted samples. Use `zero_division` parameter to control this behavior.\n",
      "  _warn_prf(average, modifier, msg_start, len(result))\n",
      "/opt/homebrew/Caskroom/miniforge/base/envs/machine_learning/lib/python3.11/site-packages/sklearn/metrics/_classification.py:1344: UndefinedMetricWarning: Precision and F-score are ill-defined and being set to 0.0 in labels with no predicted samples. Use `zero_division` parameter to control this behavior.\n",
      "  _warn_prf(average, modifier, msg_start, len(result))\n"
     ]
    }
   ],
   "source": [
    "y_pred_linear = svm_linear.predict(test_features)\n",
    "print(\"Linear Kernel:\")\n",
    "print(confusion_matrix(test_labels, y_pred_linear))\n",
    "print(classification_report(test_labels, y_pred_linear))\n",
    "\n",
    "# Polynomial kernel\n",
    "y_pred_poly = svm_poly.predict(test_features)\n",
    "print(\"Polynomial Kernel:\")\n",
    "print(confusion_matrix(test_labels, y_pred_poly))\n",
    "print(classification_report(test_labels, y_pred_poly))\n",
    "\n",
    "y_pred_rbf = svm_rbf.predict(test_features)\n",
    "print(\"RBF Kernel:\")\n",
    "print(confusion_matrix(test_labels, y_pred_rbf))\n",
    "print(classification_report(test_labels, y_pred_rbf))"
   ],
   "metadata": {
    "collapsed": false
   }
  },
  {
   "cell_type": "code",
   "execution_count": 8,
   "outputs": [
    {
     "name": "stdout",
     "output_type": "stream",
     "text": [
      "Tuned RBF Kernel:\n",
      "[[1 0 0 0 4]\n",
      " [0 2 0 0 3]\n",
      " [0 0 0 0 3]\n",
      " [0 0 1 0 3]\n",
      " [0 0 0 0 3]]\n",
      "              precision    recall  f1-score   support\n",
      "\n",
      "    building       1.00      0.20      0.33         5\n",
      "         car       1.00      0.40      0.57         5\n",
      "       fence       0.00      0.00      0.00         3\n",
      "        pole       0.00      0.00      0.00         4\n",
      "        tree       0.19      1.00      0.32         3\n",
      "\n",
      "    accuracy                           0.30        20\n",
      "   macro avg       0.44      0.32      0.24        20\n",
      "weighted avg       0.53      0.30      0.27        20\n",
      "\n"
     ]
    },
    {
     "name": "stderr",
     "output_type": "stream",
     "text": [
      "/opt/homebrew/Caskroom/miniforge/base/envs/machine_learning/lib/python3.11/site-packages/sklearn/metrics/_classification.py:1344: UndefinedMetricWarning: Precision and F-score are ill-defined and being set to 0.0 in labels with no predicted samples. Use `zero_division` parameter to control this behavior.\n",
      "  _warn_prf(average, modifier, msg_start, len(result))\n",
      "/opt/homebrew/Caskroom/miniforge/base/envs/machine_learning/lib/python3.11/site-packages/sklearn/metrics/_classification.py:1344: UndefinedMetricWarning: Precision and F-score are ill-defined and being set to 0.0 in labels with no predicted samples. Use `zero_division` parameter to control this behavior.\n",
      "  _warn_prf(average, modifier, msg_start, len(result))\n",
      "/opt/homebrew/Caskroom/miniforge/base/envs/machine_learning/lib/python3.11/site-packages/sklearn/metrics/_classification.py:1344: UndefinedMetricWarning: Precision and F-score are ill-defined and being set to 0.0 in labels with no predicted samples. Use `zero_division` parameter to control this behavior.\n",
      "  _warn_prf(average, modifier, msg_start, len(result))\n"
     ]
    }
   ],
   "source": [
    "from sklearn.svm import SVC\n",
    "\n",
    "svm_rbf_tuned = SVC(kernel='rbf', C=10, gamma=0.1)\n",
    "svm_rbf_tuned.fit(train_features, train_labels)\n",
    "y_pred_rbf_tuned = svm_rbf_tuned.predict(test_features)\n",
    "print(\"Tuned RBF Kernel:\")\n",
    "print(confusion_matrix(test_labels, y_pred_rbf_tuned))\n",
    "print(classification_report(test_labels, y_pred_rbf_tuned))"
   ],
   "metadata": {
    "collapsed": false
   }
  },
  {
   "cell_type": "code",
   "execution_count": null,
   "outputs": [],
   "source": [],
   "metadata": {
    "collapsed": false
   }
  }
 ],
 "metadata": {
  "kernelspec": {
   "display_name": "Python 3",
   "language": "python",
   "name": "python3"
  },
  "language_info": {
   "codemirror_mode": {
    "name": "ipython",
    "version": 2
   },
   "file_extension": ".py",
   "mimetype": "text/x-python",
   "name": "python",
   "nbconvert_exporter": "python",
   "pygments_lexer": "ipython2",
   "version": "2.7.6"
  }
 },
 "nbformat": 4,
 "nbformat_minor": 0
}
